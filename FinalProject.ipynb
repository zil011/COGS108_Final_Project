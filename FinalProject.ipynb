{
 "cells": [
  {
   "cell_type": "markdown",
   "metadata": {},
   "source": [
    "# COGS 108 - Final Project "
   ]
  },
  {
   "cell_type": "markdown",
   "metadata": {},
   "source": [
    "# Overview"
   ]
  },
  {
   "cell_type": "markdown",
   "metadata": {},
   "source": [
    "*Fill in your overview here*"
   ]
  },
  {
   "cell_type": "markdown",
   "metadata": {},
   "source": [
    "# Names\n",
    "\n",
    "- Zijian Liu\n",
    "- Pin-Hsuan Chen\n",
    "- Kyle Reed \n",
    "- Yunji Ryu\n",
    "- Jing Wei"
   ]
  },
  {
   "cell_type": "markdown",
   "metadata": {},
   "source": [
    "# Group Members IDs\n",
    "\n",
    "- A15723355\n",
    "- A########\n",
    "- A########\n",
    "- A########"
   ]
  },
  {
   "cell_type": "markdown",
   "metadata": {},
   "source": [
    "# Research Question"
   ]
  },
  {
   "cell_type": "markdown",
   "metadata": {},
   "source": [
    "How does the time of day, location, and trip duration affect the surge in price for Uber rides in NYC?\n"
   ]
  },
  {
   "cell_type": "markdown",
   "metadata": {},
   "source": [
    "## Background and Prior Work"
   ]
  },
  {
   "cell_type": "markdown",
   "metadata": {},
   "source": [
    "Based on our experiences with Uber, the price for riders can vary drastically with no clear indications as to why. According to the FiveThirtyEight article, “Is Uber making NYC Rush Hour Traffic Worse?”, there is an increase in Uber demand during rush hour, which could contribute to the fluctuation in price. Instead of making assumptions based on an educated guess, we decided to look into their website and look for any public information about it.\n",
    "In Uber’s official website, general information about this fluctuation in price was provided only for the Uber drivers. Labeled as surge price, fare calculation and its system are shown and explained for Uber drivers.  (Here’s the link). Although the website is public and both parties, including riders and drivers, the separate section for riders did not include information about surge pricing and that might be one of the reasons why most of the riders are unaware of its existence and how it works until the Uber app alerts of the sudden price change.\n",
    "As we mentioned in our question and hypothesis section, surge prices are calculated based on location and time during the day. According to the website, the surge pricing is determined by two combined factors; the rider’s location as well as the real-time demand by the riders in the same specific area. Depending on Uber’s jurisdiction on these specific areas, riders are charged with fixed rates of either 1.8x or 2.5x, which is multiplied on the already existing base ride fare. These multipliers are also bound by specific locations. Certain locations have 2.5 multiplication rate while others have a different rate or no rate at all. Although Uber has a specific map inside the app that shows the multiplier rate in the current and nearby area, they did not get into details on how the jurisdiction is made to each individual area and how the rates are justified. In order to investigate this information, we decided to use our readily available public data to analyze and infer to the possible correlations listed in our hypothesis.\n",
    " \n",
    "\n",
    "References (include links):\n",
    "- 1)\n",
    "- 2)"
   ]
  },
  {
   "cell_type": "markdown",
   "metadata": {},
   "source": [
    "# Hypothesis\n"
   ]
  },
  {
   "cell_type": "markdown",
   "metadata": {},
   "source": [
    "*Fill in your hypotheses here*"
   ]
  },
  {
   "cell_type": "markdown",
   "metadata": {},
   "source": [
    "# Dataset(s)"
   ]
  },
  {
   "cell_type": "markdown",
   "metadata": {},
   "source": [
    "*Fill in your dataset information here*\n",
    "\n",
    "(Copy this information for each dataset)\n",
    "- Dataset Name:\n",
    "- Link to the dataset:\n",
    "- Number of observations:\n",
    "\n",
    "1-2 sentences describing each dataset. \n",
    "\n",
    "If you plan to use multiple datasets, add 1-2 sentences about how you plan to combine these datasets."
   ]
  },
  {
   "cell_type": "markdown",
   "metadata": {},
   "source": [
    "# Setup"
   ]
  },
  {
   "cell_type": "code",
<<<<<<< HEAD
   "execution_count": 39,
=======
   "execution_count": 1,
>>>>>>> 3544bf57d6f5bab1d8ab5db59ef3e77fe59627ac
   "metadata": {},
   "outputs": [
    {
     "name": "stdout",
     "output_type": "stream",
     "text": [
      "1    WEATHER: 2012-10-01 13:00:00\n",
      "2    WEATHER: 2012-10-01 14:00:00\n",
      "3    WEATHER: 2012-10-01 15:00:00\n",
      "Name: datetime, dtype: object\n",
      "0    PICKUP:  5/1/2014 0:02:00\n",
      "1    PICKUP:  5/1/2014 0:06:00\n",
      "2    PICKUP:  5/1/2014 0:15:00\n",
      "Name: Date/Time, dtype: object\n",
      "--------\n",
      "AFTER CONVERSION: \n"
     ]
<<<<<<< HEAD
    },
    {
     "data": {
      "text/plain": [
       "0        2014-05-01 00:02:00\n",
       "1        2014-05-01 00:06:00\n",
       "2        2014-05-01 00:15:00\n",
       "3        2014-05-01 00:17:00\n",
       "4        2014-05-01 00:17:00\n",
       "5        2014-05-01 00:20:00\n",
       "6        2014-05-01 00:21:00\n",
       "7        2014-05-01 00:21:00\n",
       "8        2014-05-01 00:25:00\n",
       "9        2014-05-01 00:25:00\n",
       "10       2014-05-01 00:29:00\n",
       "11       2014-05-01 00:32:00\n",
       "12       2014-05-01 00:40:00\n",
       "13       2014-05-01 00:56:00\n",
       "14       2014-05-01 01:00:00\n",
       "15       2014-05-01 01:02:00\n",
       "16       2014-05-01 01:06:00\n",
       "17       2014-05-01 01:13:00\n",
       "18       2014-05-01 01:13:00\n",
       "19       2014-05-01 01:20:00\n",
       "20       2014-05-01 01:22:00\n",
       "21       2014-05-01 01:25:00\n",
       "22       2014-05-01 01:26:00\n",
       "23       2014-05-01 01:27:00\n",
       "24       2014-05-01 01:28:00\n",
       "25       2014-05-01 01:32:00\n",
       "26       2014-05-01 01:45:00\n",
       "27       2014-05-01 01:48:00\n",
       "28       2014-05-01 02:00:00\n",
       "29       2014-05-01 02:13:00\n",
       "                 ...        \n",
       "652405   2014-05-31 22:45:00\n",
       "652406   2014-05-31 22:47:00\n",
       "652407   2014-05-31 22:51:00\n",
       "652408   2014-05-31 22:52:00\n",
       "652409   2014-05-31 22:53:00\n",
       "652410   2014-05-31 22:54:00\n",
       "652411   2014-05-31 22:54:00\n",
       "652412   2014-05-31 22:56:00\n",
       "652413   2014-05-31 22:58:00\n",
       "652414   2014-05-31 23:00:00\n",
       "652415   2014-05-31 23:06:00\n",
       "652416   2014-05-31 23:09:00\n",
       "652417   2014-05-31 23:09:00\n",
       "652418   2014-05-31 23:10:00\n",
       "652419   2014-05-31 23:12:00\n",
       "652420   2014-05-31 23:15:00\n",
       "652421   2014-05-31 23:17:00\n",
       "652422   2014-05-31 23:20:00\n",
       "652423   2014-05-31 23:26:00\n",
       "652424   2014-05-31 23:27:00\n",
       "652425   2014-05-31 23:27:00\n",
       "652426   2014-05-31 23:28:00\n",
       "652427   2014-05-31 23:30:00\n",
       "652428   2014-05-31 23:34:00\n",
       "652429   2014-05-31 23:34:00\n",
       "652430   2014-05-31 23:45:00\n",
       "652431   2014-05-31 23:52:00\n",
       "652432   2014-05-31 23:55:00\n",
       "652433   2014-05-31 23:56:00\n",
       "652434   2014-05-31 23:59:00\n",
       "Name: Date/Time, Length: 652435, dtype: datetime64[ns]"
      ]
     },
     "execution_count": 39,
     "metadata": {},
     "output_type": "execute_result"
=======
>>>>>>> 3544bf57d6f5bab1d8ab5db59ef3e77fe59627ac
    }
   ],
   "source": [
    "## YOUR CODE HERE\n",
    "import numpy as np\n",
    "import scipy as sp\n",
    "import pandas as pd\n",
    "import matplotlib.pyplot as plt\n",
    "import sklearn as skl\n",
    "import datetime\n",
    "\n",
    "# revised proposal: weather of date vs. trip numbers?\n",
    "\n",
    "\n",
    "\n",
    "\n",
    "pickup_df = pd.read_csv('uber-raw-data-may14.csv')\n",
    "\n",
    "weather_description_df = pd.read_csv('weather_description.csv')\n",
    "###\n",
    "#data frame: pickup_df contains trip data, weather_description_df contains weather data\n",
    "\n",
    "# cleaning data, dropping everything not related to New York City \n",
    "\n",
    "weather_description_df = weather_description_df[['datetime','New York']].dropna()\n",
    "\n",
    "pickup_df = pickup_df[['Date/Time']]\n",
    "pickup_df.head()\n",
    "\n",
    "#print(weather_description_df.head())\n",
    "\n",
    "\n",
    "# priting the first element in both data frame\n",
    "print(\"WEATHER: \"+ weather_description_df['datetime'].iloc[:3])\n",
    "print(\"PICKUP:  \"+ pickup_df['Date/Time'].iloc[:3])\n",
    "\n",
    "print(\"--------\")\n",
    "''' \n",
    "How to drop data whose year and month doesn't match? i.e. dropping rows in which years aren't 2014\n",
    "How to format the date so that everything is in sync with each other?\n",
    "After cleaning, how to relate trip numbers at a certain time period with that time?\n",
    "'''\n",
    "#pickup_df['Date/Time'] = datetime.strptime(str, '%m-%d-%y')\n",
    "weather_description_df['datetime'] = pd.to_datetime(weather_description_df['datetime'])\n",
    "\n",
    "# this is how you convert timestamps object to str and use contains with it\n",
<<<<<<< HEAD
    "weather_description_df = weather_description_df[weather_description_df['datetime'].astype(str).str.contains('2014-05')]\n",
    "pickup_df['Date/Time'] = pd.to_datetime(pickup_df['Date/Time'])\n",
    "print(\"AFTER CONVERSION: \")\n",
    "pickup_df['Date/Time']\n",
=======
    "#weatherdesc_clean = \n",
    "weather_description_df[weather_description_df['datetime'].astype(str).str.contains('2014')]\n",
>>>>>>> 3544bf57d6f5bab1d8ab5db59ef3e77fe59627ac
    "#str.contains\n",
    "#take the first 10 rows \n",
    "\n",
    "#weatherdesc_clean.to_csv('weather_description_clean.csv')\n"
   ]
  },
  {
   "cell_type": "code",
   "execution_count": 33,
   "metadata": {},
   "outputs": [
    {
     "name": "stdout",
     "output_type": "stream",
     "text": [
      "<class 'str'>\n",
      "2014-05-01 00:02:00\n"
     ]
    }
   ],
   "source": [
    "print(type(pickup_df['Date/Time'].iloc[0]))\n",
    "print(pd.to_datetime(pickup_df['Date/Time'].iloc[0]))\n",
    "#type(weather_description_df['datetime'].astype(str).iloc[0])\n"
   ]
  },
  {
   "cell_type": "markdown",
   "metadata": {},
   "source": [
    "# Data Cleaning"
   ]
  },
  {
   "cell_type": "markdown",
   "metadata": {},
   "source": [
    "Describe your data cleaning steps here."
   ]
  },
  {
   "cell_type": "code",
   "execution_count": null,
   "metadata": {},
   "outputs": [],
   "source": [
    "## YOUR CODE HERE\n",
    "## FEEL FREE TO ADD MULTIPLE CELLS PER SECTION\n",
    "\n",
    "windspd_df = pd.read_csv('Wind_speed_for_2014-2015.csv')\n",
    "temperature_df = pd.read_csv('NewYork_Temperature_2014.csv')\n",
    "temperature_df.describe()\n",
    "pickup_df.head()"
   ]
  },
  {
   "cell_type": "markdown",
   "metadata": {},
   "source": [
    "# Data Analysis & Results"
   ]
  },
  {
   "cell_type": "code",
   "execution_count": null,
   "metadata": {},
   "outputs": [],
   "source": [
    "pickup_df.head()"
   ]
  },
  {
   "cell_type": "markdown",
   "metadata": {},
   "source": [
    "Include cells that describe the steps in your data analysis."
   ]
  },
  {
   "cell_type": "code",
   "execution_count": null,
   "metadata": {},
   "outputs": [],
   "source": [
    "## YOUR CODE HERE\n",
    "## FEEL FREE TO ADD MULTIPLE CELLS PER SECTION"
   ]
  },
  {
   "cell_type": "markdown",
   "metadata": {},
   "source": [
    "# Ethics & Privacy"
   ]
  },
  {
   "cell_type": "markdown",
   "metadata": {},
   "source": [
    "The data set we are analyzing for this project is public data obtained from an open source. The data on its own does not reveal any private information about individual users as well as Uber drivers so we are not as concerned with personal privacy. However, analyzers could still easily extract a lot of information from these data. For instance, analyzing this data set could reveal users’ commute patterns and preferences. Though this does not point to a specific person, it could be information that could be sold to other companies for profit. From this, companies can target users based on their individual preferences. For example, they could distribute advertisements based on these preferences. Or, rideshare apps, like Uber, could take advantage of all these data and deliberately raise prices when the demand is high. "
   ]
  },
  {
   "cell_type": "markdown",
   "metadata": {},
   "source": [
    "# Conclusion & Discussion"
   ]
  },
  {
   "cell_type": "markdown",
   "metadata": {},
   "source": [
    "*Fill in your discussion information here*"
   ]
  },
  {
   "cell_type": "code",
   "execution_count": null,
   "metadata": {},
   "outputs": [],
   "source": []
  },
  {
   "cell_type": "code",
   "execution_count": null,
   "metadata": {},
   "outputs": [],
   "source": []
  },
  {
   "cell_type": "code",
   "execution_count": null,
   "metadata": {},
   "outputs": [],
   "source": []
  },
  {
   "cell_type": "code",
   "execution_count": null,
   "metadata": {},
   "outputs": [],
   "source": []
  }
 ],
 "metadata": {
  "kernelspec": {
   "display_name": "Python 3",
   "language": "python",
   "name": "python3"
  },
  "language_info": {
   "codemirror_mode": {
    "name": "ipython",
    "version": 3
   },
   "file_extension": ".py",
   "mimetype": "text/x-python",
   "name": "python",
   "nbconvert_exporter": "python",
   "pygments_lexer": "ipython3",
   "version": "3.7.1"
  }
 },
 "nbformat": 4,
 "nbformat_minor": 2
}
