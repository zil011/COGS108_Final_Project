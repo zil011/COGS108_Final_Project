{
 "cells": [
  {
   "cell_type": "markdown",
   "metadata": {},
   "source": [
    "# COGS 108 - Final Project "
   ]
  },
  {
   "cell_type": "markdown",
   "metadata": {},
   "source": [
    "# Overview"
   ]
  },
  {
   "cell_type": "markdown",
   "metadata": {},
   "source": [
    "In order to see whether or not there is a significant correlation between the weather and the number of rides made per day in New York, appropriate data has been gathered and analyzed. The weather is divided into three different attributes; temperature, wind speed, and humidity, for each hour during the day in May of 2014. These three attributes were analyzed against the number of rides made in each month, to see if we can visually see the correlation between these three attributes and the rides made."
   ]
  },
  {
   "cell_type": "markdown",
   "metadata": {},
   "source": [
    "# Names\n",
    "\n",
    "- Zijian Liu\n",
    "- Pin-Hsuan Chen\n",
    "- Kyle Reed \n",
    "- Yunji Ryu\n",
    "- Jing Wei"
   ]
  },
  {
   "cell_type": "markdown",
   "metadata": {},
   "source": [
    "# Group Members IDs\n",
    "\n",
    "- A15723355\n",
    "- A14012598\n",
    "- A11839833\n",
    "- A15729483\n",
    "- A14767336"
   ]
  },
  {
   "cell_type": "markdown",
   "metadata": {},
   "source": [
    "# Research Question"
   ]
  },
  {
   "cell_type": "markdown",
   "metadata": {},
   "source": [
    "Research question: How does the weather condition, specifically wind speed, temperature, humidity, and hourly weather description, affect the overall number of rides during the day in NYC?\n"
   ]
  },
  {
   "cell_type": "markdown",
   "metadata": {},
   "source": [
    "## Background and Prior Work"
   ]
  },
  {
   "cell_type": "markdown",
   "metadata": {},
   "source": [
    "There were no prior Work done for our topic. But based on our experiences with acquiring rides in certain weather conditions, there are numerous reasons why one can consider getting a taxi/Uber compared to getting there by foot or other means. One of the main components that influences this decision is weather. Engineers in the New York State created a system to provide information about the road conditions in New York State, specifically catering towards the more haphazard winter season, providing whether the highway will be blocked or not due to snow and ice operations. They also included a report for each of the observed years to include a more detailed description of the road conditions and list how accurate their report was. But not much of these affected the road conditions during the non-winter seasons. Whether it's the wind travel advisory warnings, slippery driveways on a rainy day, drivers and the riders tend to be more wary of the environmental situations around the road regardless of the season, which affects their decision to get a ride or not, conclusively affecting the number of rides that are made in New York. In order to investigate this information, we decided to use our readily available public data to analyze and infer to the possible correlations listed in our research question and hypothesis.\n",
    "\n",
    "References (include links):\n",
    "- 1) https://www.dot.ny.gov/wta (New York State Winter Travel Advisory System for 2014 - 2015 winter season)\n",
    "- 2) https://www.dot.ny.gov/divisions/engineering/technical-services/highway-data-services/traffic-data (Traffic Data Report based on various regions in New York State in 2014)"
   ]
  },
  {
   "cell_type": "markdown",
   "metadata": {},
   "source": [
    "# Hypothesis\n"
   ]
  },
  {
   "cell_type": "markdown",
   "metadata": {},
   "source": [
    "1. Temperature will have an effect on ride count.\n",
    "2. Wind speed will have an effect on ride count.\n",
    "3. Humidity will have an effect on ride count.\n",
    "4. Weather description will have an effect on ride count. \n",
    "\n",
    "We predict that these factor will correlate to the number of rides in some way. It is harder to say whether it will be a negative or positive correlation because unfavorable weather conditions can include either extremely low temperatures or extremely high temperatures. However, we predict ride counts to be higher on days with unfavorable weather conditions, such as thunderstorm or rain. For instance, if for a particular hour, the wind speed, humidity, and temperature are all relatively higher compared to the whole dataset, we predict the ride count to be higher as well.\n",
    "\n",
    "We believe that unfavorable weather conditions will lead to higher ride counts because people are less willing to walk or take public transportation in those conidtions. For example, if the weather was nice and sunny, people are more willing to save money and walk a couple of blocks. However, if it was rainy and cold, there is a higher chance of people getting a ride so that they can stay dry and warm. "
   ]
  },
  {
   "cell_type": "markdown",
   "metadata": {},
   "source": [
    "# Dataset(s)"
   ]
  },
  {
   "cell_type": "markdown",
   "metadata": {},
   "source": [
    "*Fill in your dataset information here*\n",
    "\n",
    "(Copy this information for each dataset)\n",
    "- Dataset Name: Historical Hourly Weather Data 2012-2017\n",
    "- Link to the dataset: https://www.kaggle.com/selfishgene/historical-hourly-weather-data\n",
    "- Number of observations: [to be filled]\n",
    "- Description: This dataset includes hourly weather data for several cities\n",
    "\n",
    "\n",
    "- Dataset Name: [to be filled]\n",
    "- Link to the dataset: [rides link here]\n",
    "- Number of observations: [to be filled]\n",
    "- description: [to be filled]\n",
    "\n",
    "1-2 sentences describing each dataset. \n",
    "\n",
    "If you plan to use multiple datasets, add 1-2 sentences about how you plan to combine these datasets."
   ]
  },
  {
   "cell_type": "markdown",
   "metadata": {},
   "source": [
    "# Setup"
   ]
  },
  {
   "cell_type": "code",
   "execution_count": 3,
   "metadata": {},
   "outputs": [],
   "source": [
    "## YOUR CODE HERE\n",
    "import numpy as np\n",
    "import scipy as sp\n",
    "import pandas as pd\n",
    "import matplotlib.pyplot as plt\n",
    "import sklearn as skl\n",
    "import datetime\n"
   ]
  },
  {
   "cell_type": "markdown",
   "metadata": {},
   "source": [
    "# Data cleaning"
   ]
  },
  {
   "cell_type": "markdown",
   "metadata": {},
   "source": [
    "Describe your data cleaning steps here."
   ]
  },
  {
   "cell_type": "markdown",
   "metadata": {},
   "source": [
    "The first dataset we are going to clean is the ride data. Our cleaning steps include:\n",
    "1. Load and read all the CSV file. We will also take a look at what the dataset looks like and how many enteries there are. Here we noticed that we need to condense our dataset in someway to match the hourly weather descriptions. \n",
    "2. We decided to condense the ride data by hour to show a ride count for each hour of everyday of a month. "
   ]
  },
  {
   "cell_type": "code",
   "execution_count": null,
   "metadata": {},
   "outputs": [],
   "source": [
    "# Step 1 \n",
    "pickup_df = pd.read_csv('uber-raw-data-may14.csv')\n",
    "pickup_df.head()\n",
    "print(pickup_df.shape)"
   ]
  },
  {
   "cell_type": "code",
   "execution_count": null,
   "metadata": {},
   "outputs": [],
   "source": []
  },
  {
   "cell_type": "code",
   "execution_count": 4,
   "metadata": {},
   "outputs": [
    {
     "name": "stdout",
     "output_type": "stream",
     "text": [
      "(652435, 4)\n"
     ]
    },
    {
     "ename": "NameError",
     "evalue": "name 'ubermay' is not defined",
     "output_type": "error",
     "traceback": [
      "\u001b[0;31m---------------------------------------------------------------------------\u001b[0m",
      "\u001b[0;31mNameError\u001b[0m                                 Traceback (most recent call last)",
      "\u001b[0;32m<ipython-input-4-c8c73a44e0b4>\u001b[0m in \u001b[0;36m<module>\u001b[0;34m()\u001b[0m\n\u001b[1;32m     12\u001b[0m \u001b[0;34m\u001b[0m\u001b[0m\n\u001b[1;32m     13\u001b[0m \u001b[0;31m#run through raw data and add each ride to its respective hour within the dict\u001b[0m\u001b[0;34m\u001b[0m\u001b[0;34m\u001b[0m\u001b[0m\n\u001b[0;32m---> 14\u001b[0;31m \u001b[0;32mfor\u001b[0m \u001b[0mindex\u001b[0m\u001b[0;34m,\u001b[0m \u001b[0mrow\u001b[0m \u001b[0;32min\u001b[0m \u001b[0mubermay\u001b[0m\u001b[0;34m.\u001b[0m\u001b[0miterrows\u001b[0m\u001b[0;34m(\u001b[0m\u001b[0;34m)\u001b[0m\u001b[0;34m:\u001b[0m\u001b[0;34m\u001b[0m\u001b[0m\n\u001b[0m\u001b[1;32m     15\u001b[0m         \u001b[0mcounts\u001b[0m\u001b[0;34m[\u001b[0m\u001b[0mrow\u001b[0m\u001b[0;34m[\u001b[0m\u001b[0;36m0\u001b[0m\u001b[0;34m]\u001b[0m\u001b[0;34m[\u001b[0m\u001b[0;34m:\u001b[0m\u001b[0mrow\u001b[0m\u001b[0;34m[\u001b[0m\u001b[0;36m0\u001b[0m\u001b[0;34m]\u001b[0m\u001b[0;34m.\u001b[0m\u001b[0mindex\u001b[0m\u001b[0;34m(\u001b[0m\u001b[0;34m\":\"\u001b[0m\u001b[0;34m)\u001b[0m\u001b[0;34m]\u001b[0m\u001b[0;34m]\u001b[0m \u001b[0;34m+=\u001b[0m \u001b[0;36m1\u001b[0m\u001b[0;34m\u001b[0m\u001b[0m\n\u001b[1;32m     16\u001b[0m \u001b[0;34m\u001b[0m\u001b[0m\n",
      "\u001b[0;31mNameError\u001b[0m: name 'ubermay' is not defined"
     ]
    }
   ],
   "source": [
    "\n",
    "\n",
    "# Step 2 \n",
    "#initialize counts dict for each hour in may\n",
    "counts = {}\n",
    "for date in np.arange(1,32):\n",
    "    for time in np.arange(0,24):\n",
    "        counts[\"5/{}/2014 {}\".format(date,time)] = 0\n",
    "        \n",
    "#run through raw data and add each ride to its respective hour within the dict\n",
    "for index, row in ubermay.iterrows():\n",
    "        counts[row[0][:row[0].index(\":\")]] += 1\n",
    "\n",
    "\n",
    "weather_description_df = pd.read_csv('weather_description.csv')\n",
    "\n",
    "\n",
    "\n",
    "\n",
    "\n",
    "###\n",
    "#data frame: pickup_df contains trip data, weather_description_df contains weather data\n",
    "\n",
    "# cleaning data, dropping everything not related to New York City \n",
    "weather_description_df = weather_description_df[['datetime','New York']].dropna()\n",
    "\n",
    "# reading raw data for uber rides\n",
    "pickup_df = pickup_df[['Date/Time']]\n",
    "pickup_df.head()\n",
    "\n",
    "\n",
    "\n",
    "# printing the first element in both data frame to see the format\n",
    "print(\"WEATHER: \"+ weather_description_df['datetime'].iloc[:3])\n",
    "print(\"PICKUP:  \"+ pickup_df['Date/Time'].iloc[:3])\n",
    "\n",
    "print(\"--------\")\n",
    "''' \n",
    "How to drop data whose year and month doesn't match? i.e. dropping rows in which years aren't 2014\n",
    "How to format the date so that everything is in sync with each other?\n",
    "After cleaning, how to relate trip numbers at a certain time period with that time?\n",
    "'''\n",
    "#pickup_df['Date/Time'] = datetime.strptime(str, '%m-%d-%y')\n",
    "weather_description_df['datetime'] = pd.to_datetime(weather_description_df['datetime'])\n",
    "\n",
    "# this is how you convert timestamps object to str and use contains with it\n",
    "weather_description_df = weather_description_df[weather_description_df['datetime'].astype(str).str.contains('2014-05')]\n",
    "pickup_df['Date/Time'] = pd.to_datetime(pickup_df['Date/Time'])\n",
    "print(\"AFTER CONVERSION: \")\n",
    "pickup_df['Date/Time']\n",
    "#weatherdesc_clean = \n",
    "weather_description_df[weather_description_df['datetime'].astype(str).str.contains('2014')]\n",
    "\n"
   ]
  },
  {
   "cell_type": "code",
   "execution_count": null,
   "metadata": {},
   "outputs": [],
   "source": [
    "# calling count() on the column containing New York data to see the specific content for weather description\n",
    "description_item = weather_description_df.groupby([\"New York\"]).count()\n",
    "print(description_item)"
   ]
  },
  {
   "cell_type": "code",
   "execution_count": null,
   "metadata": {},
   "outputs": [],
   "source": [
    "# trying to understand data so that we could clean it\n",
    "print(type(pickup_df['Date/Time'].iloc[0]))\n",
    "print(pd.to_datetime(pickup_df['Date/Time'].iloc[0]))\n",
    "#type(weather_description_df['datetime'].astype(str).iloc[0])\n"
   ]
  },
  {
   "cell_type": "code",
   "execution_count": null,
   "metadata": {},
   "outputs": [],
   "source": [
    "temperature_df = pd.read_csv('NewYork_Temperature_2014.csv')\n",
    "temperature_df = temperature_df[['datetime','New York']].dropna()\n",
    "temperature_df.describe()\n",
    "print(\"All data related to weather should have 744 entries AFTER CLEANING. Rerun if result doesn't match up.\")\n",
    "print(\"Before cleaning, temperature_df has\",temperature_df['datetime'].count(),\"entries\")\n",
    "\n",
    "'''\n",
    "Cleaning the data\n",
    "As you can see, clearly, the temperature dataframe is in neither farenheit nor celsius\n",
    "We suspect it is in Kelvin.\n",
    "Is it though?\n",
    "\n",
    "Justification: We looked into the below link, found the temperature for May 1st and converted in into Kelvin,\n",
    "it matches what we have in our dataframe.\n",
    "https://www.timeanddate.com/weather/usa/new-york/historic?month=5&year=2014\n",
    "'''\n",
    "\n",
    "temperature_df\n",
    "temperature_df = temperature_df[temperature_df['datetime'].astype(str).str.contains('2014-05')]\n",
    "print(\"After cleaning, temperature_df has\",temperature_df['datetime'].count(),\"entries\")\n",
    "#converting temperature from kelvin to fahrenheit\n",
    "for i in temperature_df.index.values:\n",
    "    k_temp = temperature_df.loc[i,'New York']\n",
    "    f_temp = 9/5*(k_temp-273.15)+32\n",
    "    f_temp_2 = int(str(f_temp)[:2])\n",
    "    temperature_df.loc[i,'New York'] = f_temp_2\n",
    "\n",
    "    \n",
    "wind_speed_df = pd.read_csv('Wind_speed_for_2014-2015.csv')\n",
    "wind_speed_df = wind_speed_df[['datetime','New York']].dropna()\n",
    "wind_speed_df = wind_speed_df[wind_speed_df['datetime'].astype(str).str.contains('2014-05')]\n",
    "\n",
    "'''\n",
    "TODO: renaming all columns for each dataframe\n",
    "THEN: merge them into a same dataframe\n",
    "'''\n",
    "# renaming all the columns so that it correctly matches with types of data stored.\n",
    "weather_description_df.rename(columns={'New York':'description'}, inplace=True)\n",
    "temperature_df.rename(columns={'New York':'temperature'}, inplace=True)\n",
    "wind_speed_df.rename(columns={'New York':'wind speed'}, inplace=True)\n"
   ]
  },
  {
   "cell_type": "code",
   "execution_count": null,
   "metadata": {},
   "outputs": [],
   "source": [
    "#After running above, we can see the index from all dataframes do not match up. \n",
    "#This is due to the different set up for each of them.\n",
    "\n",
    "\n",
    "\n",
    "weather_description_df = weather_description_df.reset_index(drop=True)\n",
    "weather_description_df\n",
    "temperature_df = temperature_df.reset_index(drop=True)\n",
    "wind_speed_df = wind_speed_df.reset_index(drop=True)\n",
    "\n",
    "\n",
    "weather_description_df = weather_description_df.join(temperature_df['temperature'])\n",
    "weather_description_df = weather_description_df.join(wind_speed_df['wind speed'])\n",
    "# let's see what our dataframe looks like\n",
    "weather_description_df"
   ]
  },
  {
   "cell_type": "markdown",
   "metadata": {},
   "source": [
    "After cleaning all the different features for weather and joining them into a single dataframes, we can start to visualize them."
   ]
  },
  {
   "cell_type": "code",
   "execution_count": null,
   "metadata": {},
   "outputs": [],
   "source": [
    "humidity_df = pd.read_csv('humidity.csv')\n",
    "humidity_df = humidity_df[['datetime','New York']].dropna()\n",
    "humidity_df = humidity_df[humidity_df['datetime'].astype(str).str.contains('2014-05')]\n",
    "humidity_df.rename(columns={'New York':'humidity'}, inplace=True)\n",
    "humidity_df = humidity_df.reset_index(drop=True)\n",
    "humidity_df\n",
    "#comment below line after running for the first time\n",
    "#rerunning will fail due to two NaN values\n",
    "#weather_description_df = weather_description_df.join(humidity_df['humidity'])\n",
    "weather_description_df\n"
   ]
  },
  {
   "cell_type": "code",
   "execution_count": null,
   "metadata": {},
   "outputs": [],
   "source": [
    "# counts_df contains data for Uber ride count in May 2014 from pickup_df, cleaned in a hourly fashion\n",
    "counts_df = pd.read_csv('uber_hourly_counts_may.csv')\n",
    "counts_df\n",
    "\n",
    "humidity_df\n",
    "# why 2 NaN?\n",
    "# There were two missing entry for humidity in May\n",
    "\n",
    "\n",
    "counts_df = counts_df.reset_index(drop=True)\n",
    "counts_df.rename(columns={'Count':'ride count'}, inplace=True)\n",
    "\n",
    "#weather_description_df = weather_description_df.join(counts_df['ride count'])\n",
    "weather_description_df\n"
   ]
  },
  {
   "cell_type": "code",
   "execution_count": null,
   "metadata": {},
   "outputs": [],
   "source": []
  },
  {
   "cell_type": "markdown",
   "metadata": {},
   "source": []
  },
  {
   "cell_type": "markdown",
   "metadata": {},
   "source": []
  },
  {
   "cell_type": "code",
   "execution_count": null,
   "metadata": {},
   "outputs": [],
   "source": [
    "## YOUR CODE HERE\n",
    "## FEEL FREE TO ADD MULTIPLE CELLS PER SECTION\n",
    "\n",
    "## NY's Temperature in 2014\n"
   ]
  },
  {
   "cell_type": "markdown",
   "metadata": {},
   "source": [
    "# Data Analysis & Results"
   ]
  },
  {
   "cell_type": "code",
   "execution_count": null,
   "metadata": {},
   "outputs": [],
   "source": []
  },
  {
   "cell_type": "code",
   "execution_count": null,
   "metadata": {},
   "outputs": [],
   "source": [
    "'''\n",
    "cols_plot = ['description', 'temperature','wind speed', 'humidity']\n",
    "axes = weather_description_df[cols_plot].plot(marker='.', alpha=0.1, linestyle='None', figsize=(11, 9), subplots=True)\n",
    "for y_axis in axes:\n",
    "    y_axis.set_ylabel('counts')\n",
    "'''"
   ]
  },
  {
   "cell_type": "code",
   "execution_count": null,
   "metadata": {},
   "outputs": [],
   "source": [
    "temperature_plot = ['temperature']\n",
    "axes_temperature = weather_description_df[temperature_plot].plot(marker='.', color=\"darkgreen\",\n",
    "                                                                 alpha=0.6, \n",
    "                                                                 linestyle='None', \n",
    "                                                                 figsize=(11, 9), \n",
    "                                                                 subplots=True)\n",
    "for y_axis in axes_temperature:\n",
    "    y_axis.set_ylabel('kelvin')\n",
    "for x_axis in axes_temperature:\n",
    "    x_axis.set_xlabel('ride count for that hour')"
   ]
  },
  {
   "cell_type": "code",
   "execution_count": null,
   "metadata": {},
   "outputs": [],
   "source": [
    "wind_speed_plot = ['wind speed']\n",
    "axes_wind_speed = weather_description_df[wind_speed_plot].plot(marker='.', color=\"darkred\",\n",
    "                                                               alpha=0.1, \n",
    "                                                               linestyle='None', \n",
    "                                                               figsize=(11, 9), \n",
    "                                                               subplots=True)\n",
    "for y_axis in axes_wind_speed:\n",
    "    y_axis.set_ylabel('mph')\n",
    "for x_axis in axes_wind_speed:\n",
    "    x_axis.set_xlabel('ride count for that hour')"
   ]
  },
  {
   "cell_type": "code",
   "execution_count": null,
   "metadata": {},
   "outputs": [],
   "source": [
    "humidity_plot = ['humidity']\n",
    "axes_humidity = weather_description_df[humidity_plot].plot(marker='.', color=\"blue\",\n",
    "                                                           alpha=0.1, \n",
    "                                                           linestyle='None', \n",
    "                                                           figsize=(11, 9), \n",
    "                                                           subplots=True)\n",
    "for y_axis in axes_humidity:\n",
    "    y_axis.set_ylabel('humidity')\n",
    "    \n",
    "for x_axis in axes_humidity:\n",
    "    x_axis.set_xlabel('ride count for that hour')\n",
    "    "
   ]
  },
  {
   "cell_type": "markdown",
   "metadata": {},
   "source": [
    "Include cells that describe the steps in your data analysis."
   ]
  },
  {
   "cell_type": "code",
   "execution_count": null,
   "metadata": {},
   "outputs": [],
   "source": [
    "## YOUR CODE HERE\n",
    "## FEEL FREE TO ADD MULTIPLE CELLS PER SECTION"
   ]
  },
  {
   "cell_type": "markdown",
   "metadata": {},
   "source": [
    "# Ethics & Privacy"
   ]
  },
  {
   "cell_type": "markdown",
   "metadata": {},
   "source": [
    "The data set we are analyzing for this project is public data obtained from an open source. The data on its own does not reveal any private information about individual users as well as Uber drivers so we are not as concerned with personal privacy. However, analyzers could still easily extract a lot of information from these data. For instance, analyzing this data set could reveal users’ commute patterns and preferences. Though this does not point to a specific person, it could be information that could be sold to other companies for profit. From this, companies can target users based on their individual preferences. For example, they could distribute advertisements based on these preferences. Or, rideshare apps, like Uber, could take advantage of all these data and deliberately raise prices when the demand is high. "
   ]
  },
  {
   "cell_type": "markdown",
   "metadata": {},
   "source": [
    "# Conclusion & Discussion"
   ]
  },
  {
   "cell_type": "markdown",
   "metadata": {},
   "source": [
    "*Fill in your discussion information here*"
   ]
  },
  {
   "cell_type": "code",
   "execution_count": null,
   "metadata": {},
   "outputs": [],
   "source": []
  },
  {
   "cell_type": "code",
   "execution_count": null,
   "metadata": {},
   "outputs": [],
   "source": []
  },
  {
   "cell_type": "code",
   "execution_count": null,
   "metadata": {},
   "outputs": [],
   "source": []
  },
  {
   "cell_type": "code",
   "execution_count": null,
   "metadata": {},
   "outputs": [],
   "source": []
  }
 ],
 "metadata": {
  "kernelspec": {
   "display_name": "Python 3",
   "language": "python",
   "name": "python3"
  },
  "language_info": {
   "codemirror_mode": {
    "name": "ipython",
    "version": 3
   },
   "file_extension": ".py",
   "mimetype": "text/x-python",
   "name": "python",
   "nbconvert_exporter": "python",
   "pygments_lexer": "ipython3",
   "version": "3.7.3"
  }
 },
 "nbformat": 4,
 "nbformat_minor": 2
}
